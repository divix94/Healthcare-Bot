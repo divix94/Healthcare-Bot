{
 "cells": [
  {
   "cell_type": "code",
   "execution_count": null,
   "metadata": {},
   "outputs": [],
   "source": [
    "pip install"
   ]
  },
  {
   "cell_type": "code",
   "execution_count": null,
   "metadata": {},
   "outputs": [],
   "source": [
    "pip help install\n"
   ]
  },
  {
   "cell_type": "code",
   "execution_count": null,
   "metadata": {},
   "outputs": [],
   "source": [
    "pip install flask\n"
   ]
  },
  {
   "cell_type": "code",
   "execution_count": null,
   "metadata": {},
   "outputs": [],
   "source": [
    "pip install chatterbot\n"
   ]
  },
  {
   "cell_type": "code",
   "execution_count": null,
   "metadata": {},
   "outputs": [],
   "source": [
    "pip install chatterbot_corpus"
   ]
  },
  {
   "cell_type": "code",
   "execution_count": null,
   "metadata": {},
   "outputs": [],
   "source": [
    "from chatterbot import ChatBot\n",
    "from chatterbot.trainers import ChatterBotCorpusTrainer\n",
    "\n",
    "# Create a chatbot instance\n",
    "chatbot = ChatBot('HealthcareBot')\n",
    "\n",
    "# Create a ChatterBotCorpusTrainer and train the chatbot on the English corpus data\n",
    "trainer = ChatterBotCorpusTrainer(chatbot)\n",
    "trainer.train('chatterbot.corpus.english')\n",
    "\n",
    "# Interaction with the chatbot can be done in this script as well\n"
   ]
  },
  {
   "cell_type": "code",
   "execution_count": null,
   "metadata": {},
   "outputs": [],
   "source": [
    "pip install Chatterbot"
   ]
  },
  {
   "cell_type": "code",
   "execution_count": null,
   "metadata": {},
   "outputs": [],
   "source": [
    "pip install rasa\n"
   ]
  },
  {
   "cell_type": "code",
   "execution_count": null,
   "metadata": {},
   "outputs": [],
   "source": [
    "pip install botbuilder\n"
   ]
  },
  {
   "cell_type": "code",
   "execution_count": null,
   "metadata": {},
   "outputs": [],
   "source": [
    "from botbuilder.core import BotFrameworkAdapter\n",
    "from botbuilder.schema import Activity, ActivityTypes\n",
    "from botbuilder.core import TurnContext\n",
    "\n",
    "adapter = BotFrameworkAdapter('<Your_Bot_Framework_Secret>')\n",
    "\n",
    "async def on_message_activity(context):\n",
    "    await context.send_activity('Hello, I am your bot!')\n",
    "\n",
    "async def main(req, res):\n",
    "    activity = Activity().deserialize(req)\n",
    "    context = TurnContext(adapter, activity)\n",
    "    if activity.type == ActivityTypes.message:\n",
    "        await on_message_activity(context)\n",
    "    return await res\n"
   ]
  },
  {
   "cell_type": "code",
   "execution_count": null,
   "metadata": {},
   "outputs": [],
   "source": [
    "pip botbuilder.core"
   ]
  },
  {
   "cell_type": "code",
   "execution_count": null,
   "metadata": {},
   "outputs": [],
   "source": [
    "from chatterbot import ChatBot\n",
    "from chatterbot.trainers import ChatterBotCorpusTrainer\n",
    "\n",
    "# Create a chatbot instance\n",
    "chatbot = ChatBot('HealthcareBot')\n",
    "\n",
    "# Create a ChatterBotCorpusTrainer and train the chatbot on the English corpus data\n",
    "trainer = ChatterBotCorpusTrainer(chatbot)\n",
    "trainer.train('chatterbot.corpus.english')\n",
    "\n",
    "# Define a function to get responses from the chatbot\n",
    "def get_bot_response(user_input):\n",
    "    return chatbot.get_response(user_input).text\n",
    "\n",
    "# Example usage:\n",
    "user_input = \"What are the symptoms of COVID-19?\"\n",
    "bot_response = get_bot_response(user_input)\n",
    "print(\"Healthcare Bot:\", bot_response)"
   ]
  },
  {
   "cell_type": "code",
   "execution_count": null,
   "metadata": {},
   "outputs": [],
   "source": [
    "from chatterbot import ChatBot\n",
    "from chatterbot.trainers import ChatterBotCorpusTrainer\n",
    "\n",
    "# Create a chatbot instance\n",
    "chatbot = ChatBot('HealthcareBot')\n",
    "\n",
    "# Create a ChatterBotCorpusTrainer and train the chatbot on the English corpus data\n",
    "trainer = ChatterBotCorpusTrainer(chatbot)\n",
    "trainer.train('chatterbot.corpus.english')\n",
    "\n",
    "# Define a function to get responses from the chatbot\n",
    "def get_bot_response(user_input):\n",
    "    return chatbot.get_response(user_input).text\n",
    "\n",
    "# Example usage:\n",
    "user_input = \"What are the symptoms of COVID-19?\"\n",
    "bot_response = get_bot_response(user_input)\n",
    "print(\"Healthcare Bot:\", bot_response)"
   ]
  },
  {
   "cell_type": "code",
   "execution_count": null,
   "metadata": {},
   "outputs": [],
   "source": [
    "from chatterbot import ChatBot\n",
    "from chatterbot.trainers import ChatterBotCorpusTrainer\n",
    "\n",
    "# Create a chatbot instance\n",
    "chatbot = ChatBot('HealthcareBot')\n",
    "\n",
    "# Create a ChatterBotCorpusTrainer and train the chatbot on the English corpus data\n",
    "trainer = ChatterBotCorpusTrainer(chatbot)\n",
    "trainer.train('chatterbot.corpus.english')\n",
    "\n",
    "# Define a function to get responses from the chatbot\n",
    "def get_bot_response(user_input):\n",
    "    return chatbot.get_response(user_input).text\n",
    "\n",
    "# Example usage:\n",
    "user_input = \"What are the symptoms of COVID-19?\"\n",
    "bot_response = get_bot_response(user_input)\n",
    "print(\"Healthcare Bot:\", bot_response)\n"
   ]
  },
  {
   "cell_type": "code",
   "execution_count": null,
   "metadata": {},
   "outputs": [],
   "source": [
    "pip install Chatterbot"
   ]
  },
  {
   "cell_type": "code",
   "execution_count": null,
   "metadata": {},
   "outputs": [],
   "source": [
    "from chatterbot import ChatBot\n",
    "from chatterbot.trainers import ChatterBotCorpusTrainer\n"
   ]
  },
  {
   "cell_type": "code",
   "execution_count": null,
   "metadata": {},
   "outputs": [],
   "source": [
    "pip install nltk\n"
   ]
  },
  {
   "cell_type": "code",
   "execution_count": null,
   "metadata": {},
   "outputs": [],
   "source": [
    "from chatterbot import ChatBot\n",
    "from chatterbot.trainers import ChatterBotCorpusTrainer\n",
    "\n",
    "# Create a chatbot instance\n",
    "chatbot = ChatBot('HealthcareBot')\n",
    "\n",
    "# Create a ChatterBotCorpusTrainer and train the chatbot on the English corpus data\n",
    "trainer = ChatterBotCorpusTrainer(chatbot)\n",
    "trainer.train('chatterbot.corpus.english')\n",
    "\n",
    "# Define a function to get responses from the chatbot\n",
    "def get_bot_response(user_input):\n",
    "    return chatbot.get_response(user_input).text\n",
    "\n",
    "# Example usage:\n",
    "user_input = \"What are the symptoms of COVID-19?\"\n",
    "bot_response = get_bot_response(user_input)\n",
    "print(\"Healthcare Bot:\", bot_response)"
   ]
  },
  {
   "cell_type": "code",
   "execution_count": null,
   "metadata": {},
   "outputs": [],
   "source": [
    "pip install Chatterbot"
   ]
  },
  {
   "cell_type": "code",
   "execution_count": null,
   "metadata": {},
   "outputs": [],
   "source": [
    "pip install --upgrade pip setuptools wheel\n"
   ]
  },
  {
   "cell_type": "code",
   "execution_count": null,
   "metadata": {},
   "outputs": [],
   "source": [
    "pip install chatterbot"
   ]
  },
  {
   "cell_type": "code",
   "execution_count": null,
   "metadata": {},
   "outputs": [],
   "source": [
    "pip install --upgrade pip\n",
    "pip install --upgrade setuptools\n",
    "pip install --upgrade wheel\n"
   ]
  },
  {
   "cell_type": "code",
   "execution_count": null,
   "metadata": {},
   "outputs": [],
   "source": [
    "import nltk\n",
    "from nltk.chat.util import Chat, reflections\n"
   ]
  },
  {
   "cell_type": "code",
   "execution_count": null,
   "metadata": {},
   "outputs": [],
   "source": [
    "pairs = [\n",
    "    [\"(hello|hi|hey)\", [\"Hello!\", \"Hi there!\", \"How can I help you today?\"]],\n",
    "    [\"(what is|tell me about) COVID-19\", [\"COVID-19 is a highly contagious virus...\"]],\n",
    "    [\"(symptoms of|signs of) COVID-19\", [\"Common symptoms include fever, cough, and shortness of breath.\"]],\n",
    "    [\"(how to prevent|preventive measures for) COVID-19\", [\"To prevent COVID-19, practice good hygiene, wear a mask, and maintain social distance.\"]],\n",
    "    [\"(thank you|thanks)\", [\"You're welcome!\", \"If you have more questions, feel free to ask.\"]],\n",
    "]\n"
   ]
  },
  {
   "cell_type": "code",
   "execution_count": null,
   "metadata": {},
   "outputs": [],
   "source": [
    "chatbot = Chat(pairs, reflections)\n"
   ]
  },
  {
   "cell_type": "code",
   "execution_count": null,
   "metadata": {},
   "outputs": [],
   "source": [
    "print(\"Healthcare Chatbot: Hello! I'm here to answer your health-related questions. Type 'quit' to exit.\")\n",
    "\n",
    "while True:\n",
    "    user_input = input(\"You: \")\n",
    "    if user_input.lower() == 'quit':\n",
    "        print(\"Healthcare Chatbot: Goodbye!\")\n",
    "        break\n",
    "\n",
    "    response = chatbot.respond(user_input)\n",
    "    print(\"Healthcare Chatbot:\", response)\n"
   ]
  },
  {
   "cell_type": "code",
   "execution_count": 3,
   "metadata": {},
   "outputs": [
    {
     "ename": "SyntaxError",
     "evalue": "unterminated string literal (detected at line 7) (2554289008.py, line 7)",
     "output_type": "error",
     "traceback": [
      "\u001b[0;36m  Cell \u001b[0;32mIn[3], line 7\u001b[0;36m\u001b[0m\n\u001b[0;31m    (r'(.*)head(ache|pain), [\"A headache can be caused by various factors, such as stress, dehydration, or underlying health issues. Try drinking water and resting. If it persists, consult a doctor.\"]),\u001b[0m\n\u001b[0m     ^\u001b[0m\n\u001b[0;31mSyntaxError\u001b[0m\u001b[0;31m:\u001b[0m unterminated string literal (detected at line 7)\n"
     ]
    }
   ],
   "source": [
    "patterns = [\n",
    "    (r'(.*)hi|hello|hey',['Hello, If your in pain or have any questions regarding your health you can ask me. I hope to be of assistance.']),\n",
    "    (r'(.*)bye|quit', ['Goodbye!', 'See you later!']),\n",
    "    (r'(.*)help', ['I can help you with general health and medical queries.']),\n",
    "    (r'(.*) symptoms', [\"It could be a variety of conditions. Please consult a healthcare professional.\"]),\n",
    "    (r'(.*) (treatment|cure)', [\"The treatment for %1 may vary depending on the condition. Consult a doctor for advice.\"]),\n",
    "    (r'(.*)(headache|headpain)', [\"A headache can be caused by various factors, such as stress, dehydration, or underlying health issues. Try drinking water and resting. If it persists, consult a doctor.\"]),\n",
    "    (r'(.*)fever', [\"Fever is a symptom of various illnesses. Monitor your temperature and consult a doctor if it's high or persistent.\"]),\n",
    "    (r'(.*)cough', [\"Coughs can be caused by infections or allergies. Get plenty of rest, drink fluids, and consider over-the-counter cough remedies. If it continues, see a healthcare professional.\"]),\n",
    "    (r'(.*)flu', [\"The flu is caused by influenza viruses. Rest, stay hydrated, and consult a doctor if you suspect you have the flu.\"]),\n",
    "    (r'(.*)cold', [\"Colds are viral infections. Rest, drink fluids, and use over-the-counter cold remedies to alleviate symptoms.\"]),\n",
    "    (r'(.*)COVID-19|coronavirus', [\"If you suspect you have COVID-19, self-isolate and get tested. Follow local health guidelines and consult a healthcare provider.\"]),\n",
    "    (r'(.*)heart attack', [\"If you believe you or someone else is having a heart attack, call 911 immediately. Do not wait.\"]),\n",
    "    (r'(.*)diabetes', [\"Diabetes is a chronic condition. Maintain a healthy lifestyle, monitor your blood sugar, and follow your doctor's advice.\"]),\n",
    "    (r'(.*)asthma', [\"Asthma is a respiratory condition. Use prescribed inhalers and avoid triggers. Consult your doctor for a personalized plan.\"]),\n",
    "    (r'(.*)allergies', [\"Allergies can be managed with antihistamines and by avoiding allergens. Consult an allergist for testing and advice.\"]),\n",
    "    (r'(.*)skin rash', [\"Skin rashes can have many causes, including allergies, infections, or autoimmune conditions. Consult a dermatologist for diagnosis and treatment.\"]),\n",
    "    (r'(.*)depression', [\"Depression is a serious mental health condition. Seek help from a mental health professional or therapist.\"]),\n",
    "    (r'(.*)anxiety', [\"Anxiety can be managed through therapy and, in some cases, medication. Speak to a mental health professional for support.\"]),\n",
    "    (r'(.*)insomnia', [\"If you have trouble sleeping, practice good sleep hygiene and consider talking to a sleep specialist for advice.\"]),\n",
    "    (r'(.*)weight loss', [\"Unexplained weight loss can be a sign of underlying health issues. Consult a doctor to rule out any serious conditions.\"]),\n",
    "    (r'(.*)weight gain', [\"Unexplained weight gain can have various causes. Consult a healthcare provider to determine the underlying issue.\"]),\n",
    "    (r'(.*)diet|nutrition', [\"Maintaining a balanced diet is essential for good health. Consult a nutritionist for personalized dietary advice.\"]),\n",
    "    (r'(.*)exercise', [\"Regular exercise is crucial for physical and mental health. Start with a fitness plan that suits your fitness level and goals.\"]),\n",
    "    (r'(.*)stress management', [\"Stress can impact your health. Practice stress-reduction techniques like mindfulness, yoga, or meditation.\"]),\n",
    "    (r'(.*)blood pressure', [\"High blood pressure can lead to serious health issues. Monitor your blood pressure regularly and consult a doctor for guidance.\"]),\n",
    "    (r'(.*)cholesterol', [\"High cholesterol levels can increase the risk of heart disease. Consult a healthcare provider for dietary and medical management.\"]),\n",
    "    (r'(.*)pregnancy', [\"If you suspect you're pregnant, take a home pregnancy test and consult an obstetrician for prenatal care.\"]),\n",
    "    (r'(.*)birth control', [\"There are various birth control methods available. Consult a gynecologist to discuss options and find the best fit for you.\"]),\n",
    "    (r'(.*)nutrition during pregnancy', [\"A healthy diet during pregnancy is essential. Consult with a nutritionist or healthcare provider for guidance.\"]),\n",
    "    (r'(.*)childhood vaccinations', [\"Vaccinations are crucial to protect children from diseases. Follow the recommended vaccination schedule for your child.\"]),\n",
    "    (r'(.*)elderly care', [\"Elderly individuals may have unique healthcare needs. Consult a geriatrician for specialized care and advice.\"]),\n",
    "    (r'(.*)arthritis', [\"Arthritis can cause joint pain and stiffness. Consult a rheumatologist for diagnosis and management.\"]),\n",
    "    (r'(.*)dental care', [\"Regular dental check-ups and oral hygiene are essential for maintaining healthy teeth and gums.\"]),\n",
    "    (r'(.*)vision problems', [\"If you experience vision problems, consult an eye specialist (ophthalmologist) for an eye examination.\"]),\n",
    "    (r'(.*)ear infection', [\"Ear infections can be painful. Consult an ENT specialist for diagnosis and treatment.\"]),\n",
    "    (r'(.*)stroke', [\"If you suspect someone is having a stroke, call 911 immediately. Recognize the FAST signs: Face drooping, Arm weakness, Speech difficulty, Time to call 911.\"]),\n",
    "    (r'(.*)asthma attack', [\"During an asthma attack, use your inhaler as prescribed and seek immediate medical attention if your symptoms worsen.\"]),\n",
    "    (r'(.*)food poisoning', [\"If you suspect food poisoning, stay hydrated and rest. If symptoms persist or worsen, consult a doctor.\"]),\n",
    "    (r'(.*)sunburn', [\"Treat sunburn by applying aloe vera or a cool compress. Stay out of the sun until the burn heals.\"]),\n",
    "    (r'(.*)poisoning', [\"If you or someone is exposed to a toxic substance, call poison control and seek medical attention immediately.\"]),\n",
    "    (r'(.*)concussion', [\"A concussion is a type of brain injury. Rest, avoid physical activity, and consult a healthcare provider for evaluation.\"]),\n",
    "    (r'(.*)sleep apnea', [\"Sleep apnea can disrupt your sleep and health. Consult a sleep specialist for evaluation and treatment options.\"]),\n",
    "    (r'(.*)strep throat', [\"Strep throat is a bacterial infection. Consult a doctor for diagnosis and antibiotic treatment.\"]),\n",
    "    (r'(.*)ear (ache|pain|hurts)', [\"Earaches can have various causes. Consult an ENT specialist for diagnosis and treatment.\"]),\n",
    "    (r'(.*)stomach ache', [\"Stomach aches can be caused by various factors. Avoid irritating foods and consult a doctor if pain persists.\"]),\n",
    "    (r'(.*)diarrhea', [\"Diarrhea can have many causes, including infections and dietary issues. Stay hydrated and consult a doctor if it continues.\"]),\n",
    "    (r'(.*)constipation', [\"Constipation can result from dietary choices or underlying conditions. Increase fiber intake and consult a doctor if it persists.\"]),\n",
    "    (r'(.*)acne', [\"Acne is a common skin condition. Consult a dermatologist for skincare recommendations and treatment options.\"]),\n",
    "    (r'(.*)hair loss', [\"Hair loss can have multiple causes. Consult a dermatologist for a proper diagnosis and potential treatments.\"]),\n",
    "    (r'(.*)migraine', [\"Migraines can be debilitating. Identify triggers and consult a healthcare provider for management strategies.\"]),\n",
    "    (r'(.*)joint pain', [\"Joint pain can be due to arthritis or other conditions. Consult a rheumatologist for diagnosis and pain management.\"]),\n",
    "    (r'(.*)sinusitis', [\"Sinusitis is an inflammation of the sinuses. Consult a doctor for diagnosis and treatment, which may include antibiotics.\"]),\n",
    "    (r'(.*)common cold', [\"The common cold is a viral infection. Get plenty of rest, stay hydrated, and use over-the-counter cold remedies to alleviate symptoms.\"]),\n",
    "    (r'(.*)pink eye|conjunctivitis', [\"Pink eye can be caused by viruses or bacteria. Consult an eye specialist (ophthalmologist) for diagnosis and treatment.\"]),\n",
    "    (r'(.*)sore throat', [\"A sore throat can result from infections or irritation. Gargle with warm salt water and consult a doctor if it persists.\"]),\n",
    "    (r'(.*)swollen glands', [\"Swollen glands can be a sign of infection or other health issues. Consult a doctor for a proper evaluation.\"]),\n",
    "    (r'(.*)sinus congestion', [\"Sinus congestion can lead to discomfort. Use saline nasal sprays and consider decongestants if advised by a healthcare provider.\"]),\n",
    "    (r'(.*)gastroenteritis', [\"Gastroenteritis, often caused by viruses, results in stomach and intestinal symptoms. Stay hydrated and consult a doctor if it persists.\"]),\n",
    "    (r'(.*)indigestion', [\"Indigestion can occur after eating. Avoid trigger foods and try antacids. Consult a doctor if it continues.\"]),\n",
    "    (r'(.*)heartburn', [\"Heartburn can result from acid reflux. Avoid trigger foods, elevate your head while sleeping, and consult a doctor if it persists.\"]),\n",
    "    (r'(.*)ulcer', [\"Ulcers can lead to stomach pain. Consult a gastroenterologist for diagnosis and treatment options.\"]),\n",
    "    (r'(.*)gallstones', [\"Gallstones can cause abdominal pain. Consult a gastroenterologist for diagnosis and potential treatment options.\"]),\n",
    "    (r'(.*)kidney stones', [\"Kidney stones can be painful. Stay hydrated and consult a urologist for diagnosis and treatment.\"]),\n",
    "    (r'(.*)inflammatory bowel disease', [\"Inflammatory bowel diseases like Crohn's or ulcerative colitis require specialized care from a gastroenterologist.\"]),\n",
    "    (r'(.*)appendicitis', [\"Appendicitis is a medical emergency. If you suspect appendicitis, seek immediate medical attention.\"]),\n",
    "    (r'(.*)pneumonia', [\"Pneumonia is a serious lung infection. Consult a doctor for diagnosis and treatment, which may include antibiotics.\"]),\n",
    "    (r'(.*)tuberculosis', [\"Tuberculosis is a bacterial infection. Consult a healthcare provider for diagnosis and a treatment plan.\"]),\n",
    "    (r'(.*)hepatitis', [\"Hepatitis can have various forms and causes. Consult a hepatologist for diagnosis and treatment options.\"]),\n",
    "    (r'(.*)cancer', [\"Cancer can manifest in many forms. Consult an oncologist for diagnosis, staging, and treatment options.\"]),\n",
    "    (r'(.*)dental cavity', [\"Cavities require dental care. Consult a dentist for filling or other treatment options.\"]),\n",
    "    (r'(.*)gingivitis', [\"Gingivitis is an early stage of gum disease. Maintain good oral hygiene and consult a dentist for treatment.\"]),\n",
    "    (r'(.*)gum disease', [\"Advanced gum disease may require specialized care from a periodontist.\"]),\n",
    "    (r'(.*)arthritis treatment', [\"Arthritis treatment options include medications, physical therapy, and lifestyle changes. Consult a rheumatologist for personalized advice.\"]),\n",
    "    (r'(.*)osteoporosis', [\"Osteoporosis weakens bones. Consult a healthcare provider for diagnosis and treatment options.\"]),\n",
    "    (r'(.*)allergic reaction', [\"For severe allergic reactions (anaphylaxis), use an epinephrine auto-injector if prescribed and seek immediate medical attention.\"]),\n",
    "    (r'(.*)strep infection', [\"Strep infections can lead to various health issues. Consult a doctor for diagnosis and antibiotic treatment.\"]),\n",
    "    (r'(.*)burns', [\"Treat burns with cool, running water and clean dressings. Seek medical attention for severe burns.\"]),\n",
    "    (r'(.*)pneumothorax', [\"Pneumothorax is a collapsed lung. Seek immediate medical attention if you suspect this condition.\"]),\n",
    "    (r'(.*)asthma prevention', [\"Asthma prevention involves avoiding triggers, using prescribed inhalers, and following an asthma action plan.\"]),\n",
    "    (r'(.*)sun safety', [\"Protect your skin from the sun by wearing sunscreen, protective clothing, and sunglasses.\"]),\n",
    "    (r'(.*)blood sugar control', [\"Managing blood sugar is crucial for diabetics. Follow a personalized plan provided by your doctor.\"]),\n",
    "    (r'(.*)cholesterol management', [\"Control high cholesterol with dietary changes, exercise, and, in some cases, medications. Consult a healthcare provider.\"]),\n",
    "    (r'(.*)heart health', [\"Maintain heart health by eating a heart-healthy diet, exercising, and avoiding smoking and excessive alcohol consumption.\"]),\n",
    "    (r'(.*)respiratory infections', [\"Respiratory infections can be caused by viruses or bacteria. Consult a doctor for diagnosis and treatment.\"]),\n",
    "    (r'(.*)earwax removal', [\"Excessive earwax can affect hearing. Consult an ENT specialist for safe earwax removal.\"]),\n",
    "    (r'(.*)back pain', [\"Back pain can have various causes. Consult a healthcare provider or a physiotherapist for diagnosis and treatment.\"]),\n",
    "    (r'(.*)high blood sugar', [\"High blood sugar can be a sign of uncontrolled diabetes. Consult your healthcare provider for management strategies.\"]),\n",
    "    (r'(.*)low blood sugar', [\"Low blood sugar can be dangerous for diabetics. Consume glucose or follow your doctor's advice to raise your blood sugar.\"]),\n",
    "    (r'(.*)concussion symptoms', [\"Recognize concussion symptoms such as headache, dizziness, and confusion. Rest and seek medical attention if needed.\"]),\n",
    "    (r'(.*)heatstroke', [\"Heatstroke is a medical emergency. Move to a cooler place, hydrate, and seek immediate medical attention.\"]),\n",
    "    (r'(.*)heat exhaustion', [\"If you experience heat exhaustion, move to a cooler place, hydrate, and rest.\"]),\n",
    "    (r'(.*)hypertension', [\"Hypertension is high blood pressure. Follow a healthcare provider's recommendations to manage it.\"]),\n",
    "    (r'(.*)eczema', [\"Eczema is a skin condition that may require specialized care from a dermatologist. Follow a skincare plan for relief.\"]),\n",
    "    (r'(.*)flu vaccination', [\"Get a flu vaccine annually to reduce the risk of influenza infection.\"]),\n",
    "    (r'(.*)measles', [\"Measles is a highly contagious viral infection. Vaccination is the best prevention.\"]),\n",
    "]\n",
    "\n",
    "chatbot = Chat(patterns, reflections)\n"
   ]
  },
  {
   "cell_type": "code",
   "execution_count": null,
   "metadata": {},
   "outputs": [],
   "source": []
  }
 ],
 "metadata": {
  "kernelspec": {
   "display_name": "Python 3",
   "language": "python",
   "name": "python3"
  },
  "language_info": {
   "codemirror_mode": {
    "name": "ipython",
    "version": 3
   },
   "file_extension": ".py",
   "mimetype": "text/x-python",
   "name": "python",
   "nbconvert_exporter": "python",
   "pygments_lexer": "ipython3",
   "version": "3.12.0"
  }
 },
 "nbformat": 4,
 "nbformat_minor": 2
}
